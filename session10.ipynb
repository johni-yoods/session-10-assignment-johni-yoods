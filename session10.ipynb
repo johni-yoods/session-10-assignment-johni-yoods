{
  "nbformat": 4,
  "nbformat_minor": 0,
  "metadata": {
    "colab": {
      "name": "session10.ipynb",
      "provenance": [],
      "collapsed_sections": []
    },
    "kernelspec": {
      "name": "python3",
      "display_name": "Python 3"
    },
    "language_info": {
      "name": "python"
    }
  },
  "cells": [
    {
      "cell_type": "markdown",
      "metadata": {
        "id": "hMvzonZ2kvQC"
      },
      "source": [
        "**Class Polygon**"
      ]
    },
    {
      "cell_type": "code",
      "metadata": {
        "id": "SBwCr03UkKGD"
      },
      "source": [
        "import math\n",
        "\n",
        "class Polygon:\n",
        "    \"\"\"\n",
        "    Polygon class to generate polygon of\n",
        "    desired vertex and circumradius.\n",
        "    \"\"\"\n",
        "\n",
        "    def __init__(self,no_of_edges:int,circumradius:int):\n",
        "        \"\"\"\n",
        "            no_of_edges: Number of vertices of the plygon\n",
        "            circumradius: circumradius of the polygon.\n",
        "        \"\"\"\n",
        "        self.no_of_edges = no_of_edges\n",
        "        self.circumradius = circumradius\n",
        "    \n",
        "    def __repr__(self)->str:\n",
        "        \"\"\"\n",
        "        function to display the output of the class object.\n",
        "        \n",
        "        \"\"\"\n",
        "        return (f\"Polygon with {self.no_of_edges} vertices and {self.circumradius} as Circumradius\")\n",
        "    \n",
        "    def __eq__(self, obj)->bool:\n",
        "        \"\"\"\n",
        "        check the self.no_of_edges and self.circumradius with the\n",
        "        the obj passed as an argument\n",
        "\n",
        "        returns : bool  - True if equal else False\n",
        "        \"\"\"\n",
        "        if not isinstance(obj,Polygon):\n",
        "            raise TypeError('expected polygon class but given is not a polygon class')\n",
        "        \n",
        "        return ((self.no_of_edges == obj.no_of_edges) and (self.circumradius == obj.circumradius))\n",
        "    \n",
        "    def __gt__(self, obj)->bool:\n",
        "        \"\"\"\n",
        "        This class is to check greater than. It checks the self.no_of_edges and self.circumradius with the ones\n",
        "        of the other passed in as argument\n",
        "\n",
        "        returns: bool  - True if equal else False\n",
        "        \"\"\"\n",
        "        if not isinstance(obj,Polygon):\n",
        "            raise TypeError('expected polygon class but given is not a polygon class')\n",
        "        return self.no_of_edges > obj.no_of_edges   \n",
        "    \n",
        "    def interior_angle(self)->float:\n",
        "        \"\"\"\n",
        "        This function calculates the interior angle (n-2)*180/n\n",
        "       \n",
        "       \"\"\"\n",
        "        \n",
        "        return ((self.no_of_edges-2)*180)/self.no_of_edges\n",
        "    \n",
        "    def edge_length(self)->float:\n",
        "        \"\"\"\n",
        "        This function calculates the edge length s=2*R*sin(pi/n)\n",
        "\n",
        "        \"\"\"\n",
        "        return 2*self.circumradius*math.sin(math.pi/self.no_of_edges)\n",
        "    \n",
        "    def apothem(self)->float:\n",
        "        \"\"\"\n",
        "        This function calculates the apothem a=R*cos(pi/n)\n",
        "\n",
        "        \"\"\"\n",
        "        return self.circumradius*math.cos(math.pi/self.no_of_edges)\n",
        "    \n",
        "    def area(self)->float:\n",
        "        \"\"\"\n",
        "        This function calculates the area, area=1/2*n*s*a\n",
        "\n",
        "        \"\"\"\n",
        "        return 0.5*self.apothem()*self.edge_length() * self.no_of_edges\n",
        "    \n",
        "    def perimeter(self)->float:\n",
        "        \"\"\"\n",
        "        This function calculates the perimeter, perimeter = n*s\n",
        "\n",
        "        \"\"\"\n",
        "        return self.no_of_edges * self.edge_length()\n",
        "\n"
      ],
      "execution_count": 2,
      "outputs": []
    },
    {
      "cell_type": "markdown",
      "metadata": {
        "id": "DFMMZ5X1k6IS"
      },
      "source": [
        "**Class Polygon Seq**"
      ]
    },
    {
      "cell_type": "code",
      "metadata": {
        "id": "PWX7KAj2k8mJ"
      },
      "source": [
        "\n",
        "\n",
        "class Polygon_seq:\n",
        "    \"\"\"\n",
        "    This is a polygon sequence class used to develop a custom sequence\n",
        "    \"\"\"\n",
        "    def __init__(self,no_of_edges:int, circumradius:int):\n",
        "        \"\"\"\n",
        "            no_of_edges: Number of vertices of the plygon\n",
        "            circumradius: circumradius of the polygon. \n",
        "        \"\"\"\n",
        "        self.no_of_edges = no_of_edges\n",
        "        self.circumradius = circumradius\n",
        "        self.ratios = {}\n",
        "    \n",
        "    def __repr__(self)->str:\n",
        "        \"\"\"\n",
        "        This function is used to display the output of the class object.\n",
        "        \n",
        "        \"\"\"\n",
        "            \n",
        "        return (f\"Polygon with {self.no_of_edges} vertices and {self.circumradius} as Circumradius\")\n",
        "\n",
        "    def __len__(self)->int:\n",
        "        \"\"\"\n",
        "        This function is returns the length i.e. no of veritices/edges\n",
        "        \n",
        "        \"\"\"\n",
        "        return self.no_of_edges\n",
        "    \n",
        "    def __getitem__(self):\n",
        "        \"\"\"\n",
        "        This function returns the generated sequence\n",
        "\n",
        "        returns: Sequence - sequence containing the ratio\n",
        "        \"\"\"\n",
        "        return self.ratios \n",
        "    \n",
        "    def max_efficieny(self):\n",
        "        \"\"\"\n",
        "        Function to  calculate the maximum_efficieny\n",
        "\n",
        "        \"\"\"\n",
        "        for i in range(self.no_of_edges):\n",
        "            p=Polygon(i+1,self.circumradius)\n",
        "            self.ratios[i] = p.area()/p.perimeter()\n",
        "        key = max(self.ratios,key = self.ratios.get)\n",
        "        return self.ratios[key]\n"
      ],
      "execution_count": 4,
      "outputs": []
    },
    {
      "cell_type": "markdown",
      "metadata": {
        "id": "yaIStdpFlAk_"
      },
      "source": [
        "**Tests**"
      ]
    },
    {
      "cell_type": "code",
      "metadata": {
        "colab": {
          "base_uri": "https://localhost:8080/"
        },
        "id": "M4SRdAcklAIp",
        "outputId": "5976c61a-0434-4a6d-88f8-101ddb9acf1f"
      },
      "source": [
        "p = Polygon(4,10)\n",
        "p1 =  Polygon(4,10)\n",
        "p2 =  Polygon(5,10)\n",
        "print(\"vertex\",p.no_of_edges)\n",
        "print(\"circumradius\",p.circumradius)\n",
        "print(\"interior_angle\",p.interior_angle())\n",
        "print(\"edge_length\",p.edge_length())\n",
        "print(\"apothem\",p.apothem())\n",
        "print(\"area\",p.area())\n",
        "print(\"perimeter\",p.perimeter())\n",
        "\n",
        "if(p==p1):\n",
        "  print(\"eq implemented properly\")\n",
        "if(p2>p):\n",
        "  print(\"gt implmented properly\")\n",
        "\n"
      ],
      "execution_count": 10,
      "outputs": [
        {
          "output_type": "stream",
          "text": [
            "vertex 4\n",
            "circumradius 10\n",
            "interior_angle 90.0\n",
            "edge_length 14.14213562373095\n",
            "apothem 7.0710678118654755\n",
            "area 200.0\n",
            "perimeter 56.5685424949238\n",
            "eq implemented properly\n",
            "gt implmented properly\n"
          ],
          "name": "stdout"
        }
      ]
    },
    {
      "cell_type": "code",
      "metadata": {
        "colab": {
          "base_uri": "https://localhost:8080/"
        },
        "id": "_GOpF0KFnjSX",
        "outputId": "a7e36f03-ff66-49c6-d418-145f8d05fa50"
      },
      "source": [
        "ps = Polygon_seq(3,10)\n",
        "print(\"max eficiency\",ps.max_efficieny())"
      ],
      "execution_count": 14,
      "outputs": [
        {
          "output_type": "stream",
          "text": [
            "max eficiency 2.5000000000000004\n"
          ],
          "name": "stdout"
        }
      ]
    }
  ]
}